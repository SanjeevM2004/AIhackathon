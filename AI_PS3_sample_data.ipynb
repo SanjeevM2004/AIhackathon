{
 "cells": [
  {
   "cell_type": "code",
   "execution_count": null,
   "id": "ee3e0a67",
   "metadata": {},
   "outputs": [],
   "source": [
    "import pandas as pd\n",
    "import pathlib\n",
    "import numpy as np\n",
    "import torch"
   ]
  },
  {
   "cell_type": "code",
   "execution_count": null,
   "id": "cf67fd03",
   "metadata": {},
   "outputs": [],
   "source": [
    "PS3train = pd.read_csv(\"PS3_train.csv\")\n",
    "PS3test = pd.read_csv(\"PS3_test.csv\")"
   ]
  },
  {
   "cell_type": "code",
   "execution_count": null,
   "id": "9e0ef6df",
   "metadata": {},
   "outputs": [],
   "source": [
    "PS3train"
   ]
  },
  {
   "cell_type": "code",
   "execution_count": null,
   "id": "fe118858",
   "metadata": {},
   "outputs": [],
   "source": [
    "PS3train = PS3train.reindex(columns = [\"target_ind\", \"content\", \"title\", \"uid\"])"
   ]
  },
  {
   "cell_type": "code",
   "execution_count": null,
   "id": "418ef7e5",
   "metadata": {},
   "outputs": [],
   "source": [
    "PS3train"
   ]
  },
  {
   "cell_type": "code",
   "execution_count": null,
   "id": "b0855365",
   "metadata": {},
   "outputs": [],
   "source": [
    "PS3test = PS3test.reindex(columns = [\"target_ind\", \"content\", \"title\", \"uid\"])"
   ]
  },
  {
   "cell_type": "code",
   "execution_count": null,
   "id": "78110065",
   "metadata": {},
   "outputs": [],
   "source": [
    "BATCH_SIZE = 64\n",
    "\n",
    "LR = 0.0005"
   ]
  },
  {
   "cell_type": "code",
   "execution_count": null,
   "id": "fc0fc1d4",
   "metadata": {},
   "outputs": [],
   "source": [
    "from torchtext.data.utils import get_tokenizer\n",
    "from torchtext.vocab import build_vocab_from_iterator\n",
    "\n",
    "tokenizer = get_tokenizer('basic_english')\n",
    "\n",
    "def yield_tokens(data_iter):\n",
    "    for _, text in data_iter:\n",
    "        yield tokenizer(text)\n",
    "\n",
    "vocab = build_vocab_from_iterator(yield_tokens(), specials=[\"<unk>\"])\n",
    "vocab.set_default_index(vocab[\"<unk>\"])"
   ]
  },
  {
   "cell_type": "code",
   "execution_count": null,
   "id": "5bde782b",
   "metadata": {},
   "outputs": [],
   "source": []
  }
 ],
 "metadata": {
  "kernelspec": {
   "display_name": "Python 3 (ipykernel)",
   "language": "python",
   "name": "python3"
  },
  "language_info": {
   "codemirror_mode": {
    "name": "ipython",
    "version": 3
   },
   "file_extension": ".py",
   "mimetype": "text/x-python",
   "name": "python",
   "nbconvert_exporter": "python",
   "pygments_lexer": "ipython3",
   "version": "3.10.9"
  }
 },
 "nbformat": 4,
 "nbformat_minor": 5
}
